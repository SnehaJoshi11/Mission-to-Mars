{
 "cells": [
  {
   "cell_type": "code",
   "execution_count": 1,
   "id": "70b425ab",
   "metadata": {},
   "outputs": [],
   "source": [
    "from splinter import Browser\n",
    "from bs4 import BeautifulSoup as soup\n",
    "from webdriver_manager.chrome import ChromeDriverManager"
   ]
  },
  {
   "cell_type": "code",
   "execution_count": null,
   "id": "3f1e453f",
   "metadata": {},
   "outputs": [],
   "source": [
    "# Set the executable path and initialize Splinter\n",
    "executable_path = {'executable_path': ChromeDriverManager().install()}\n",
    "browser = Browser('chrome', **executable_path, headless=False)"
   ]
  },
  {
   "cell_type": "code",
   "execution_count": null,
   "id": "61d2092f",
   "metadata": {},
   "outputs": [],
   "source": [
    "# Visit the mars nasa news site\n",
    "url = 'https://redplanetscience.com/'\n",
    "browser.visit(url)\n",
    "\n",
    "# Optional delay for loading the page\n",
    "browser.is_element_present_by_css('div.list_text', wait_time=1)"
   ]
  },
  {
   "cell_type": "markdown",
   "id": "1e6540bd",
   "metadata": {},
   "source": [
    "### Visit the NASA Mars News Site"
   ]
  },
  {
   "cell_type": "code",
   "execution_count": null,
   "id": "a0181ca0",
   "metadata": {},
   "outputs": [],
   "source": [
    "# Convert the browser html to a soup object and then quit the browser\n",
    "html = browser.html\n",
    "news_soup = soup(html, 'html.parser')\n",
    "\n",
    "slide_elem = news_soup.select_one('div.list_text')"
   ]
  },
  {
   "cell_type": "code",
   "execution_count": null,
   "id": "9383b151",
   "metadata": {},
   "outputs": [],
   "source": [
    "slide_elem.find('div', class_='content_title')"
   ]
  },
  {
   "cell_type": "code",
   "execution_count": null,
   "id": "9d252c79",
   "metadata": {},
   "outputs": [],
   "source": [
    "# Use the parent element to find the first a tag and save it as `news_title`\n",
    "news_title = slide_elem.find('div', class_='content_title').get_text()\n",
    "news_title"
   ]
  },
  {
   "cell_type": "code",
   "execution_count": null,
   "id": "3f3df6d7",
   "metadata": {},
   "outputs": [],
   "source": [
    "# Use the parent element to find the paragraph text\n",
    "news_p = slide_elem.find('div', class_='article_teaser_body').get_text()\n",
    "news_p"
   ]
  },
  {
   "cell_type": "code",
   "execution_count": null,
   "id": "86c01282",
   "metadata": {},
   "outputs": [],
   "source": [
    "# Visit URL\n",
    "url = 'https://spaceimages-mars.com'\n",
    "browser.visit(url)"
   ]
  },
  {
   "cell_type": "markdown",
   "id": "06c5ebd2",
   "metadata": {},
   "source": [
    "### JPL Space Images Featured Image"
   ]
  },
  {
   "cell_type": "code",
   "execution_count": null,
   "id": "17ffed9b",
   "metadata": {},
   "outputs": [],
   "source": [
    "# Find and click the full image button\n",
    "full_image_elem = browser.find_by_tag('button')[1]\n",
    "full_image_elem.click()"
   ]
  },
  {
   "cell_type": "code",
   "execution_count": null,
   "id": "bcbd6614",
   "metadata": {},
   "outputs": [],
   "source": [
    "# Parse the resulting html with soup\n",
    "html = browser.html\n",
    "img_soup = soup(html, 'html.parser')\n",
    "img_soup"
   ]
  },
  {
   "cell_type": "code",
   "execution_count": null,
   "id": "b328f21f",
   "metadata": {},
   "outputs": [],
   "source": [
    "# find the relative image url\n",
    "img_url_rel = img_soup.find('img', class_='fancybox-image').get('src')\n",
    "img_url_rel"
   ]
  },
  {
   "cell_type": "code",
   "execution_count": null,
   "id": "27e7ce56",
   "metadata": {},
   "outputs": [],
   "source": [
    "# Use the base url to create an absolute url\n",
    "img_url = f'https://spaceimages-mars.com/{img_url_rel}'\n",
    "img_url"
   ]
  },
  {
   "cell_type": "markdown",
   "id": "c0e657c0",
   "metadata": {},
   "source": [
    "## Mars Facts"
   ]
  },
  {
   "cell_type": "code",
   "execution_count": null,
   "id": "14df14b3",
   "metadata": {},
   "outputs": [],
   "source": [
    "df = pd.read_html('https://galaxyfacts-mars.com')[0]\n",
    "df.head()"
   ]
  },
  {
   "cell_type": "code",
   "execution_count": null,
   "id": "fa8630e7",
   "metadata": {},
   "outputs": [],
   "source": [
    "df.columns=['Description', 'Mars', 'Earth']\n",
    "df.set_index('Description', inplace=True)\n",
    "df"
   ]
  },
  {
   "cell_type": "code",
   "execution_count": null,
   "id": "bf9cd2dc",
   "metadata": {},
   "outputs": [],
   "source": [
    "df.to_html()"
   ]
  },
  {
   "cell_type": "markdown",
   "id": "f220aa8e",
   "metadata": {},
   "source": [
    "## D1: Scrape High-Resolution Mars’ Hemisphere Images and Titles¶"
   ]
  },
  {
   "cell_type": "code",
   "execution_count": null,
   "id": "271cef7e",
   "metadata": {},
   "outputs": [],
   "source": [
    "# 1. Use browser to visit the URL \n",
    "url = 'https://astrogeology.usgs.gov/search/results?q=hemisphere+enhanced&k1=target&v1=Mars'\n",
    "#url='https://marshemispheres.com'\n",
    "browser.visit(url)"
   ]
  },
  {
   "cell_type": "code",
   "execution_count": null,
   "id": "467a4980",
   "metadata": {},
   "outputs": [],
   "source": [
    "hemisphere_image_urls = []\n",
    "\n",
    "#3. Write code to retrieve the image urls and titles for each hemisphere.\n",
    "\n",
    "#Cerberus\n",
    "browser.visit(url)\n",
    "browser.links.find_by_partial_text('Cerberus').click()\n",
    "html=browser.html\n",
    "\n",
    "cerberus_soup = soup(html,'html.parser')\n",
    "\n",
    "Cerb_url = cerberus_soup.select_one('div.downloads a' ).get(\"href\")\n",
    "\n",
    "#Cerb_url\n",
    "\n",
    "Cerb_title = cerberus_soup.select_one('div.content h2').text\n",
    "#Cerb_title\n",
    "\n",
    "#dictionary\n",
    "\n",
    "Cerb_dict={\n",
    "    \"Img_url\":Cerb_url,\n",
    "    \"Title\":Cerb_title\n",
    "}\n",
    "\n",
    "hemisphere_image_urls.append(cerberus_dict)\n",
    "\n",
    "#Schiaparelli\n",
    "\n",
    "browser.visit(url)\n",
    "browser.links.find_by_partial_text('Schiaparelli').click()\n",
    "html=browser.html\n",
    "\n",
    "schiaparelli_soup = soup(html,'html.parser')\n",
    "\n",
    "schiaparelli_url = schiaparelli_soup.select_one('div.downloads a' ).get(\"href\")\n",
    "\n",
    "#Cerb_url\n",
    "\n",
    "schiaparelli_title = schiaparelli_soup.select_one('div.content h2').text\n",
    "#Cerb_title\n",
    "\n",
    "#dictionary\n",
    "\n",
    "schiaparelli_dict={\n",
    "    \"Img_url\":schiaparelli_url,\n",
    "    \"Title\":schiaparelli_title\n",
    "}\n",
    "\n",
    "hemisphere_image_urls.append(schiaparelli_dict)\n",
    "\n",
    "\n",
    "#Syrtis\n",
    "\n",
    "\n",
    "browser.visit(url)\n",
    "browser.links.find_by_partial_text('Syrtis').click()\n",
    "html=browser.html\n",
    "\n",
    "Syrtis_soup = soup(html,'html.parser')\n",
    "\n",
    "Syrtis_url = Syrtis_soup.select_one('div.downloads a' ).get(\"href\")\n",
    "\n",
    "#Cerb_url\n",
    "\n",
    "Syrtis_title = Syrtis_soup.select_one('div.content h2').text\n",
    "#Cerb_title\n",
    "\n",
    "#dictionary\n",
    "\n",
    "Syrtis_dict={\n",
    "    \"Img_url\":Syrtis_url,\n",
    "    \"Title\":Syrtis_title\n",
    "}\n",
    "\n",
    "hemisphere_image_urls.append(Syrtis_dict)\n",
    "\n",
    "#Valles Marineris \n",
    "\n",
    "browser.visit(url)\n",
    "browser.links.find_by_partial_text('Valles Marineris').click()\n",
    "html=browser.html\n",
    "\n",
    "Valles_Marineris_soup = soup(html,'html.parser')\n",
    "\n",
    "Valles_Marineris_url = Valles_Marineris_soup.select_one('div.downloads a' ).get(\"href\")\n",
    "\n",
    "#Cerb_url\n",
    "\n",
    "Valles_Marineris_title = Valles_Marineris_soup.select_one('div.content h2').text\n",
    "#Cerb_title\n",
    "\n",
    "#dictionary\n",
    "\n",
    "Valles_Marineris_dict={\n",
    "    \"Img_url\":Valles_Marineris_url,\n",
    "    \"Title\":Valles_Marineris_title\n",
    "}\n",
    "\n",
    "hemisphere_image_urls.append(Valles_Marineris_dict)\n",
    "# # # hemisphere_image_urls.append(Cerb_dict)\n",
    "hemisphere_image_urls"
   ]
  }
 ],
 "metadata": {
  "kernelspec": {
   "display_name": "PythonData",
   "language": "python",
   "name": "pythondata"
  },
  "language_info": {
   "codemirror_mode": {
    "name": "ipython",
    "version": 3
   },
   "file_extension": ".py",
   "mimetype": "text/x-python",
   "name": "python",
   "nbconvert_exporter": "python",
   "pygments_lexer": "ipython3",
   "version": "3.7.6"
  }
 },
 "nbformat": 4,
 "nbformat_minor": 5
}
